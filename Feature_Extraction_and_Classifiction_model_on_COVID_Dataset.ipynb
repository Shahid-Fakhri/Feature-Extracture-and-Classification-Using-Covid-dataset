{
  "nbformat": 4,
  "nbformat_minor": 0,
  "metadata": {
    "colab": {
      "provenance": []
    },
    "kernelspec": {
      "name": "python3",
      "display_name": "Python 3"
    },
    "language_info": {
      "name": "python"
    }
  },
  "cells": [
    {
      "cell_type": "markdown",
      "source": [
        "**Feature Extraction and Classifiction model on COVID Dataset**"
      ],
      "metadata": {
        "id": "4_Zjj8IU2PwC"
      }
    },
    {
      "cell_type": "markdown",
      "source": [
        "\n",
        "\n",
        "*   Feature vector extraction through Gabor filter\n",
        "\n",
        "*   Feature vector extraction through Resnet model using transfer learning\n",
        "*   Implement SVM classification\n",
        "\n",
        "\n",
        "*   Model Performance Evaluation\n",
        "\n"
      ],
      "metadata": {
        "id": "mJg8GCWWrLdL"
      }
    },
    {
      "cell_type": "code",
      "execution_count": null,
      "metadata": {
        "id": "hVrhTn-irFyQ"
      },
      "outputs": [],
      "source": [
        "# Import Libraries\n",
        "import os\n",
        "from distutils.file_util import copy_file\n",
        "import glob\n",
        "import cv2\n",
        "import numpy as np\n",
        "\n",
        "from sklearn import preprocessing\n",
        "#from keras.utils import to_categorical\n",
        "\n",
        "from tensorflow.keras.applications import resnet50\n",
        "from sklearn.svm import SVC\n",
        "import matplotlib.pyplot as plt\n",
        "from sklearn.metrics import accuracy_score, f1_score, precision_score, confusion_matrix, roc_curve\n",
        "\n",
        "import warnings\n",
        "warnings.filterwarnings('ignore')"
      ]
    },
    {
      "cell_type": "code",
      "source": [
        "# I load dataset from google drive\n",
        "# Mount Google Drive\n",
        "from google.colab import drive\n",
        "drive.mount('/content/drive')"
      ],
      "metadata": {
        "colab": {
          "base_uri": "https://localhost:8080/"
        },
        "id": "4Rk-Amk7yNXj",
        "outputId": "c35683a5-e659-41b8-cda0-8ad5998af307"
      },
      "execution_count": null,
      "outputs": [
        {
          "output_type": "stream",
          "name": "stdout",
          "text": [
            "Drive already mounted at /content/drive; to attempt to forcibly remount, call drive.mount(\"/content/drive\", force_remount=True).\n"
          ]
        }
      ]
    },
    {
      "cell_type": "markdown",
      "source": [
        "**Data Preprocessing**"
      ],
      "metadata": {
        "id": "G0_eJJbz2f1w"
      }
    },
    {
      "cell_type": "code",
      "source": [
        "covidXrayPath='/content/drive/MyDrive/covid_dataset1/COVID' # path to COVID dataset in drive\n",
        "normalXrayPath='/content/drive/MyDrive/covid_dataset1/Normal' # path to Normal dataset in drive\n",
        "\n",
        "# Lists for datasets paths\n",
        "listCovidPaths = []\n",
        "listNormalPaths = []\n",
        "\n",
        "# Get covid x-rays files paths\n",
        "for root, directories, files in os.walk(covidXrayPath):\n",
        "    for name in files:\n",
        "        listCovidPaths.append(os.path.join(root, name))\n",
        "\n",
        "# Get normal x-rays files paths\n",
        "for root, directories, files in os.walk(normalXrayPath):\n",
        "    for name in files:\n",
        "        listNormalPaths.append(os.path.join(root, name))\n",
        "\n",
        "print(\"Total Covid Images:\",len(listCovidPaths))\n",
        "print(\"Total Normal Images:\",len(listNormalPaths))"
      ],
      "metadata": {
        "colab": {
          "base_uri": "https://localhost:8080/"
        },
        "id": "4OhYAxBgyNNY",
        "outputId": "8b9b2b6c-9617-4c4a-f953-9bde63fc05f2"
      },
      "execution_count": null,
      "outputs": [
        {
          "output_type": "stream",
          "name": "stdout",
          "text": [
            "Total Covid Images: 1500\n",
            "Total Normal Images: 1500\n"
          ]
        }
      ]
    },
    {
      "cell_type": "code",
      "source": [
        "for i in range(5):\n",
        "  print(listNormalPaths[i])"
      ],
      "metadata": {
        "colab": {
          "base_uri": "https://localhost:8080/"
        },
        "id": "8pQvZfFjyxAp",
        "outputId": "843895aa-8685-4e27-84a6-4baa6fc5a0a1"
      },
      "execution_count": null,
      "outputs": [
        {
          "output_type": "stream",
          "name": "stdout",
          "text": [
            "/content/drive/MyDrive/covid_dataset1/Normal/Normal-1397.png\n",
            "/content/drive/MyDrive/covid_dataset1/Normal/Normal-1440.png\n",
            "/content/drive/MyDrive/covid_dataset1/Normal/Normal-1434.png\n",
            "/content/drive/MyDrive/covid_dataset1/Normal/Normal-1438.png\n",
            "/content/drive/MyDrive/covid_dataset1/Normal/Normal-1442.png\n"
          ]
        }
      ]
    },
    {
      "cell_type": "code",
      "source": [
        "# main directories/folders to store train & test images of covid and normal separately\n",
        "!mkdir /content/drive/MyDrive/covid_dataset1/Data/\n",
        "!mkdir /content/drive/MyDrive/covid_dataset1/Data/Train/ # train directory\n",
        "!mkdir /content/drive/MyDrive/covid_dataset1/Data/Test/ # test directory\n",
        "\n",
        "!mkdir /content/drive/MyDrive/covid_dataset1/Data/Train/Covid/ # Covid train directory\n",
        "!mkdir /content/drive/MyDrive/covid_dataset1/Data/Train/Normal/ # Normal train directory\n",
        "\n",
        "!mkdir /content/drive/MyDrive/covid_dataset1/Data/Test/Covid/ # Covid test directory\n",
        "!mkdir /content/drive/MyDrive/covid_dataset1/Data/Test/Normal/ # Normal test directory"
      ],
      "metadata": {
        "id": "fvtFUCWVzVHD"
      },
      "execution_count": null,
      "outputs": []
    },
    {
      "cell_type": "code",
      "source": [
        "# Path to directory of covid images\n",
        "pathCovidTrain = '/content/drive/MyDrive/covid_dataset1/Data/Train/Covid/'\n",
        "pathCovidTest = '/content/drive/MyDrive/covid_dataset1/Data/Test/Covid/'\n",
        "\n",
        "# Path to directory of normal images\n",
        "pathNormalTrain = '/content/drive/MyDrive/covid_dataset1/Data/Train/Normal/'\n",
        "pathNormalTest = '/content/drive/MyDrive/covid_dataset1/Data/Test/Normal/'\n",
        "\n",
        "pathtrain = '/content/drive/MyDrive/covid_dataset1/Data/Train'\n",
        "pathtest = '/content/drive/MyDrive/covid_dataset1/Data/Test'"
      ],
      "metadata": {
        "id": "fJxGTTyA2nuI"
      },
      "execution_count": null,
      "outputs": []
    },
    {
      "cell_type": "code",
      "source": [
        "#Moving images to new specified directory\n",
        "# Move covid/normal images files to new folders (train/test)\n",
        "# 85% of total data in train set and 15% in test set\n",
        "for i in range(1500):\n",
        "    if i < 1275:\n",
        "        copy_file(listCovidPaths[i], pathCovidTrain)\n",
        "        copy_file(listNormalPaths[i], pathNormalTrain)\n",
        "    else  :\n",
        "        copy_file(listCovidPaths[i], pathCovidTest)\n",
        "        copy_file(listNormalPaths[i], pathNormalTest)\n"
      ],
      "metadata": {
        "id": "ksUWFOve04Zb"
      },
      "execution_count": null,
      "outputs": []
    },
    {
      "cell_type": "markdown",
      "source": [
        "**Gabor Filter and feature extraction**"
      ],
      "metadata": {
        "id": "Olwq7Arh4StI"
      }
    },
    {
      "cell_type": "code",
      "source": [
        "# This is the function of Gabor filters.\n",
        "# First create gabor filter bank, then apply filter bank on input images\n",
        "# and then extract feature vector return the list of gabor features\n",
        "def gabor_filter(img):\n",
        "  # use gabor filter from cv2\n",
        "\t# cv2.getGaborKernel(ksize, sigma, theta, lambda, gamma, psi, ktype)\n",
        "\t# ksize - size of gabor filter (n, n)\n",
        "\t# sigma - standard deviation of the gaussian function\n",
        "\t# theta - orientation of the normal to the parallel stripes\n",
        "\t# lambda - wavelength of the sunusoidal factor\n",
        "\t# gamma - spatial aspect ratio\n",
        "\t# psi - phase offset\n",
        "\t# ktype - type and range of values that each pixel in the gabor kernel can hold\n",
        "\tg_kernels = []\n",
        "\tksize=12\n",
        "\tfor theta in range(2): # 0,np.pi/6,np.pi/4,np.pi/3,np.pi/2,np.pi\n",
        "\t\ttheta = theta/4. *np.pi\n",
        "\t\tfor sigma in (1,3):\n",
        "\t\t\tfor lamda in np.arange(0,np.pi,np.pi/4):\n",
        "\t\t\t\tfor gamma in (0.05,0.5):\n",
        "\t\t\t\t\tg_kernal = cv2.getGaborKernel((ksize,ksize), sigma, theta, lamda, gamma, 0, ktype=cv2.CV_32F)\n",
        "\t\t\t\t\tg_kernels.append(g_kernal)\n",
        "\n",
        "\timg = cv2.cvtColor(img, cv2.COLOR_BGR2GRAY)\n",
        "\tfiltered_imgs = []\n",
        "\tfor g_kernel in g_kernels:\n",
        "\t\tfiltered_img = cv2.filter2D(img, cv2.CV_8UC3, g_kernel)\n",
        "\t\tfiltered_imgs.append(filtered_img)\n",
        "\t\t#cv2.imshow('image', g_kernel)\n",
        "\t\t#cv2.imshow('filtered image', filtered_img)\n",
        "\t\th, w = g_kernel.shape[:2]\n",
        "\t\tg_kernel = cv2.resize(g_kernel, (3*w, 3*h), interpolation=cv2.INTER_CUBIC)\n",
        "\t\t#cv2.imshow('image', g_kernel)\n",
        "\tgabor_features = []\n",
        "\tfor image in filtered_imgs:\n",
        "\t\tgabor_features.append((resultant_amplitude(image)))\n",
        "\treturn gabor_features\n",
        "\n",
        "# This function takes filtered_image as parameter and return amplitude of the filtered image\n",
        "def resultant_amplitude(filtered_img):\n",
        "\tlength = len(filtered_img) * len(filtered_img[0])\n",
        "\tamplitude = 0\n",
        "\tfor item in filtered_img:\n",
        "\t\tfor elem in item:\n",
        "\t\t\tamplitude+=abs(elem)\n",
        "\treturn amplitude/length\n"
      ],
      "metadata": {
        "id": "jBb3tjsu3RPM"
      },
      "execution_count": null,
      "outputs": []
    },
    {
      "cell_type": "code",
      "source": [
        "# Apply gabor filter funtion and extract feature vectors from images\n",
        "# First on train images dataset\n",
        "with open('gb_features_train.txt','w') as f:\n",
        "  for directory_path in glob.glob(pathtrain+\"/*\"): # get into train directory\n",
        "    for image_path in glob.glob(os.path.join(directory_path, \"*.png\")): # get into directories of covid/normal in train and get path of every image\n",
        "      image = cv2.imread(image_path) # read every image\n",
        "      features = [] # all features to be appended\n",
        "\n",
        "      # apply gabor_filter and get gabor_features from image\n",
        "      gabor_features = gabor_filter(image)\n",
        "      features.extend(gabor_features)\n",
        "      #print (len(features))\n",
        "      f.write(','.join(str(\"{0:.5f}\".format(i)) for i in features))\n",
        "      f.write(\"\\n\")"
      ],
      "metadata": {
        "id": "5-Njn-H36JvR"
      },
      "execution_count": null,
      "outputs": []
    },
    {
      "cell_type": "code",
      "source": [
        "# Apply gabor filter funtion and extract feature vectors from images\n",
        "# Now on test images dataset\n",
        "with open('gb_features_test.txt','w') as f:\n",
        "  for directory_path in glob.glob(pathtest+\"/*\"): # get into test directory\n",
        "    for image_path in glob.glob(os.path.join(directory_path, \"*.png\")): # get into directories of covid/normal in test and get path of every image\n",
        "      image = cv2.imread(image_path) # read every image\n",
        "      features = [] # all features to be appended\n",
        "\n",
        "      # apply gabor_filter and get gabor_features from image\n",
        "      gabor_features = gabor_filter(image)\n",
        "      features.extend(gabor_features)\n",
        "      #print (len(features))\n",
        "      f.write(','.join(str(\"{0:.5f}\".format(i)) for i in features))\n",
        "      f.write(\"\\n\")"
      ],
      "metadata": {
        "id": "Tr2S9jg68ciG"
      },
      "execution_count": null,
      "outputs": []
    },
    {
      "cell_type": "code",
      "source": [
        "# Now get extracted features vector from our saved text files into list\n",
        "with open('gb_features_train.txt') as file:\n",
        "    gb_features_train = file.readlines()\n",
        "gb_features_train = [x.strip() for x in gb_features_train]\n",
        "\n",
        "with open('gb_features_test.txt') as file:\n",
        "    gb_features_test = file.readlines()\n",
        "gb_features_test = [x.strip() for x in gb_features_test]\n",
        "\n",
        "X_train_gb =[]\n",
        "for item in gb_features_train:\n",
        "    mylist = item.split(',')\n",
        "    X_train_gb.append(list(map(float, mylist)))\n",
        "\n",
        "X_test_gb =[]\n",
        "for item in gb_features_test:\n",
        "    mylist = item.split(',')\n",
        "    X_test_gb.append(list(map(float, mylist)))\n",
        "\n",
        "# Convert into numpy array to feed in Machine learning model later\n",
        "X_train_gb = np.array(X_train_gb)\n",
        "X_test_gb = np.array(X_test_gb)"
      ],
      "metadata": {
        "id": "Olwc2VAi9YDZ"
      },
      "execution_count": null,
      "outputs": []
    },
    {
      "cell_type": "code",
      "source": [
        "print(\"Train features vector:\",X_train_gb.shape)\n",
        "print(\"Test features vector:\",X_test_gb.shape)"
      ],
      "metadata": {
        "id": "2JN8Ri3QNkey",
        "outputId": "44da3b9c-73f3-4358-fe75-c71b2205a2b0",
        "colab": {
          "base_uri": "https://localhost:8080/"
        }
      },
      "execution_count": null,
      "outputs": [
        {
          "output_type": "stream",
          "name": "stdout",
          "text": [
            "Train features vector: (2550, 32)\n",
            "Test features vector: (450, 32)\n"
          ]
        }
      ]
    },
    {
      "cell_type": "markdown",
      "source": [
        "**Data Processing**"
      ],
      "metadata": {
        "id": "Qzd0XGWFylvv"
      }
    },
    {
      "cell_type": "code",
      "source": [
        "# DATA PREPRCESSING\n",
        "SIZE = 224  #images size\n",
        "# Get training data and labels into respective lists\n",
        "train_images = []\n",
        "train_labels = []\n",
        "\n",
        "for directory_path in glob.glob(pathtrain+\"/*\"):\n",
        "    label = directory_path.split(\"\\\\\")[-1]\n",
        "    #print(label)\n",
        "    for img_path in glob.glob(os.path.join(directory_path, \"*\")):\n",
        "        #print(img_path)\n",
        "        img = cv2.imread(img_path, cv2.IMREAD_COLOR)\n",
        "        img = cv2.resize(img, (SIZE, SIZE))\n",
        "        img = cv2.cvtColor(img, cv2.COLOR_RGB2BGR)\n",
        "        train_images.append(img)\n",
        "        train_labels.append(label)\n",
        "#Convert lists to numpy arrays\n",
        "train_images = np.array(train_images)\n",
        "train_labels = np.array(train_labels)"
      ],
      "metadata": {
        "id": "Ui_m_ejzAElL"
      },
      "execution_count": null,
      "outputs": []
    },
    {
      "cell_type": "code",
      "source": [
        "# Get test data and labels into respective lists\n",
        "test_images = []\n",
        "test_labels = []\n",
        "\n",
        "for directory_path in glob.glob(pathtest+\"/*\"):\n",
        "    label = directory_path.split(\"\\\\\")[-1]\n",
        "    for img_path in glob.glob(os.path.join(directory_path, \"*\")):\n",
        "        img = cv2.imread(img_path, cv2.IMREAD_COLOR)\n",
        "        img = cv2.resize(img, (SIZE, SIZE))\n",
        "        img = cv2.cvtColor(img, cv2.COLOR_RGB2BGR)\n",
        "        test_images.append(img)\n",
        "        test_labels.append(label)\n",
        "#Convert lists to numpy arrays\n",
        "test_images = np.array(test_images)\n",
        "test_labels = np.array(test_labels)"
      ],
      "metadata": {
        "id": "pM98cmAV_Xhj"
      },
      "execution_count": null,
      "outputs": []
    },
    {
      "cell_type": "code",
      "source": [
        "#Encode labels from text to integers.\n",
        "label_encode = preprocessing.LabelEncoder()\n",
        "label_encode.fit(test_labels)\n",
        "test_labels_encoded = label_encode.transform(test_labels)\n",
        "label_encode.fit(train_labels)\n",
        "train_labels_encoded = label_encode.transform(train_labels)"
      ],
      "metadata": {
        "id": "4dio_Ik8AhKI"
      },
      "execution_count": null,
      "outputs": []
    },
    {
      "cell_type": "code",
      "source": [
        "# assigning train/test to meaningful convention\n",
        "x_train, y_train, x_test, y_test = train_images, train_labels_encoded, test_images, test_labels_encoded"
      ],
      "metadata": {
        "id": "t8Uaxmc4yQcl"
      },
      "execution_count": null,
      "outputs": []
    },
    {
      "cell_type": "code",
      "source": [
        "from collections import Counter\n",
        "Counter(y_train)"
      ],
      "metadata": {
        "colab": {
          "base_uri": "https://localhost:8080/"
        },
        "id": "G1AMJKICjPY5",
        "outputId": "cb26ef3f-59f5-42c0-de60-b1da6804802c"
      },
      "execution_count": null,
      "outputs": [
        {
          "output_type": "execute_result",
          "data": {
            "text/plain": [
              "Counter({0: 1275, 1: 1275})"
            ]
          },
          "metadata": {},
          "execution_count": 10
        }
      ]
    },
    {
      "cell_type": "code",
      "source": [
        "# Normalize pixel values to between 0 and 1\n",
        "x_train, x_test = x_train / 255.0, x_test / 255.0"
      ],
      "metadata": {
        "id": "FnXms4dHyTpo"
      },
      "execution_count": null,
      "outputs": []
    },
    {
      "cell_type": "markdown",
      "source": [
        "**RESNET Transfer learning and feature extraction**"
      ],
      "metadata": {
        "id": "w17dLIOr_Yqz"
      }
    },
    {
      "cell_type": "code",
      "source": [
        "# Load RESNET model from keras applications\n",
        "RESNET_model = resnet50.ResNet50(\n",
        "    include_top = False,\n",
        "    weights = 'imagenet',\n",
        "    input_shape = (SIZE,SIZE,3),\n",
        "    classifier_activation = 'sigmoid'\n",
        ")\n",
        "\n",
        "# make trainable parameters as False for 40 layers\n",
        "# Freez first 40 layers and use last 10 layers in training on our own data\n",
        "for i in range(40):\n",
        "  RESNET_model.layers[i].trainable = False\n",
        "\n",
        "#RESNET_model.summary()\n",
        "\n",
        "# Now extract features from RESNET network for SVM\n",
        "RESNET_features_train = RESNET_model.predict(x_train)\n",
        "X_train_RESNET = RESNET_features_train.reshape(RESNET_features_train.shape[0], -1)\n",
        "\n",
        "RESNET_features_test = RESNET_model.predict(x_test)\n",
        "X_test_RESNET = RESNET_features_test.reshape(RESNET_features_test.shape[0], -1)"
      ],
      "metadata": {
        "id": "YGk1oHrGBa8D"
      },
      "execution_count": null,
      "outputs": []
    },
    {
      "cell_type": "markdown",
      "source": [
        "**SVC on resnet transfer learning features vetor**"
      ],
      "metadata": {
        "id": "PaJiqZ0NKFrc"
      }
    },
    {
      "cell_type": "code",
      "source": [
        "# #Support Vector Machine Classifier\n",
        "SVM_model_res = SVC(probability=True)\n",
        "\n",
        "# # Train classifier model on training data\n",
        "SVM_model_res.fit(X_train_RESNET, y_train) #For sklearn no one hot encoding"
      ],
      "metadata": {
        "colab": {
          "base_uri": "https://localhost:8080/"
        },
        "id": "yVd7eewiKFM_",
        "outputId": "a47fc242-da9e-41ba-e21e-820128c65dbb"
      },
      "execution_count": null,
      "outputs": [
        {
          "output_type": "execute_result",
          "data": {
            "text/plain": [
              "SVC(probability=True)"
            ]
          },
          "metadata": {},
          "execution_count": 10
        }
      ]
    },
    {
      "cell_type": "code",
      "source": [
        "#Now predict using the trained SVM model\n",
        "prediction_SVM_res = SVM_model_res.predict(X_test_RESNET)\n",
        "\n",
        "# #Inverse label encoding le transform to get original label back.\n",
        "prediction_SVM_res_labels = label_encode.inverse_transform(prediction_SVM_res)"
      ],
      "metadata": {
        "id": "KkZDL3tYMd26"
      },
      "execution_count": null,
      "outputs": []
    },
    {
      "cell_type": "code",
      "source": [
        "def evaluation_metrics(y_true, y_pred):\n",
        "    print(\"Model Performance Evaluation:\\n\")\n",
        "    accuracy = round(accuracy_score(y_true, y_pred) * 100, 2)\n",
        "    precision = round(precision_score(y_true, y_pred,average='weighted') * 100, 2)\n",
        "    f1Score = round(f1_score(y_true, y_pred, average='weighted') * 100, 2)\n",
        "    target_names=['Abnormal','Normal']\n",
        "    cm=confusion_matrix(y_true, y_pred)\n",
        "    tn = cm[0][0]\n",
        "    fn = cm[1][0]\n",
        "    tp = cm[1][1]\n",
        "    fp = cm[0][1]\n",
        "    specificity = tn / (tn+fp)\n",
        "    sensitivity = tp / (tp+fn)\n",
        "    ppv= tp / (tp+fp)\n",
        "    npr= tn / (tn+fn)\n",
        "\n",
        "    print(\"Accuracy  : {}\".format(accuracy))\n",
        "    print(\"Precision : {}\".format(precision))\n",
        "    print(\"f1Score : {}\".format(f1Score))\n",
        "    print(\"\\nconfusion_matrix\")\n",
        "    print(cm)\n",
        "    print(\"\\nTrue Positive  : {}\".format(tp))\n",
        "    print(\"True Negative  : {}\".format(tn))\n",
        "    print(\"Flase Positive  : {}\".format(fp))\n",
        "    print(\"False Negative  : {}\".format(fn))\n",
        "\n",
        "    print(\"\\nSpecificity  : {}\".format(specificity))\n",
        "    print(\"Sensitivity  : {}\".format(sensitivity))\n",
        "    print(\"Positive predictive value (PPV): {}\".format(ppv))\n",
        "    print(\"Negative predictive value (NPV)  : {}\".format(npr))\n",
        "\n",
        "    return accuracy, precision, f1Score, cm"
      ],
      "metadata": {
        "id": "Y1gaXBayMtuS"
      },
      "execution_count": null,
      "outputs": []
    },
    {
      "cell_type": "code",
      "source": [
        "evaluation_metrics(y_test, prediction_SVM_res)"
      ],
      "metadata": {
        "colab": {
          "base_uri": "https://localhost:8080/"
        },
        "id": "Quofq5TXMvmf",
        "outputId": "b726fae1-75b9-413c-9724-73cfe04d2484"
      },
      "execution_count": null,
      "outputs": [
        {
          "output_type": "stream",
          "name": "stdout",
          "text": [
            "Model Performance Evaluation:\n",
            "\n",
            "Accuracy  : 99.56\n",
            "Precision : 99.56\n",
            "f1Score : 99.56\n",
            "\n",
            "confusion_matrix\n",
            "[[224   1]\n",
            " [  1 224]]\n",
            "\n",
            "True Positive  : 224\n",
            "True Negative  : 224\n",
            "Flase Positive  : 1\n",
            "False Negative  : 1\n",
            "\n",
            "Specificity  : 0.9955555555555555\n",
            "Sensitivity  : 0.9955555555555555\n",
            "Positive predictive value (PPV): 0.9955555555555555\n",
            "Negative predictive value (NPV)  : 0.9955555555555555\n"
          ]
        },
        {
          "output_type": "execute_result",
          "data": {
            "text/plain": [
              "(99.56, 99.56, 99.56, array([[224,   1],\n",
              "        [  1, 224]]))"
            ]
          },
          "metadata": {},
          "execution_count": 13
        }
      ]
    },
    {
      "cell_type": "code",
      "source": [
        "# Plot the ROC curve for the model\n",
        "fpr, tpr, _ = roc_curve(y_test, prediction_SVM_res)\n",
        "plt.plot(fpr, tpr, marker='.', label='SVM')\n",
        "# axis labels\n",
        "plt.xlabel('False Positive Rate')\n",
        "plt.ylabel('True Positive Rate')\n",
        "# show the legend\n",
        "plt.legend()\n",
        "# show the plot\n",
        "plt.show()"
      ],
      "metadata": {
        "colab": {
          "base_uri": "https://localhost:8080/",
          "height": 279
        },
        "id": "FVfQEo5WM8T5",
        "outputId": "2801abc8-5d78-427d-e5f8-9a447d648d81"
      },
      "execution_count": null,
      "outputs": [
        {
          "output_type": "display_data",
          "data": {
            "image/png": "[encoded data removed]",
            "text/plain": [
              "<Figure size 432x288 with 1 Axes>"
            ]
          },
          "metadata": {
            "needs_background": "light"
          }
        }
      ]
    },
    {
      "cell_type": "markdown",
      "source": [
        "**SVC on Gabor features vector**"
      ],
      "metadata": {
        "id": "0_tnkudFKTGp"
      }
    },
    {
      "cell_type": "code",
      "source": [
        "# #Support Vector Machine Classifier\n",
        "SVM_model_gb = SVC(probability=True)\n",
        "\n",
        "# # Train classifier model on training data\n",
        "SVM_model_gb.fit(X_train_gb, y_train) #For sklearn no one hot encoding"
      ],
      "metadata": {
        "colab": {
          "base_uri": "https://localhost:8080/"
        },
        "id": "23TwoS-oNZRz",
        "outputId": "4c540e9c-bb2e-4e2d-de65-009045bb0959"
      },
      "execution_count": null,
      "outputs": [
        {
          "output_type": "execute_result",
          "data": {
            "text/plain": [
              "SVC(probability=True)"
            ]
          },
          "metadata": {},
          "execution_count": 18
        }
      ]
    },
    {
      "cell_type": "code",
      "source": [
        "#Now predict using the trained SVM model\n",
        "prediction_SVM_gb = SVM_model_gb.predict(X_test_gb)\n",
        "\n",
        "# #Inverse label encoding le transform to get original label back.\n",
        "prediction_SVM_gb_labels = label_encode.inverse_transform(prediction_SVM_gb)"
      ],
      "metadata": {
        "id": "bjxUqtJpNK6b"
      },
      "execution_count": null,
      "outputs": []
    },
    {
      "cell_type": "code",
      "source": [
        "evaluation_metrics(y_test, prediction_SVM_gb)"
      ],
      "metadata": {
        "colab": {
          "base_uri": "https://localhost:8080/"
        },
        "id": "60qwbMivNFgn",
        "outputId": "55b416ec-c90c-4019-8b42-02171ec076c5"
      },
      "execution_count": null,
      "outputs": [
        {
          "output_type": "stream",
          "name": "stdout",
          "text": [
            "Model Performance Evaluation:\n",
            "\n",
            "Accuracy  : 76.22\n",
            "Precision : 76.87\n",
            "f1Score : 76.08\n",
            "\n",
            "confusion_matrix\n",
            "[[154  71]\n",
            " [ 36 189]]\n",
            "\n",
            "True Positive  : 189\n",
            "True Negative  : 154\n",
            "Flase Positive  : 71\n",
            "False Negative  : 36\n",
            "\n",
            "Specificity  : 0.6844444444444444\n",
            "Sensitivity  : 0.84\n",
            "Positive predictive value (PPV): 0.7269230769230769\n",
            "Negative predictive value (NPV)  : 0.8105263157894737\n"
          ]
        },
        {
          "output_type": "execute_result",
          "data": {
            "text/plain": [
              "(76.22, 76.87, 76.08, array([[154,  71],\n",
              "        [ 36, 189]]))"
            ]
          },
          "metadata": {},
          "execution_count": 20
        }
      ]
    },
    {
      "cell_type": "code",
      "source": [
        "# Plot the ROC curve for the model\n",
        "fpr, tpr, _ = roc_curve(y_test, prediction_SVM_gb)\n",
        "plt.plot(fpr, tpr, marker='.', label='SVM')\n",
        "# axis labels\n",
        "plt.xlabel('False Positive Rate')\n",
        "plt.ylabel('True Positive Rate')\n",
        "# show the legend\n",
        "plt.legend()\n",
        "# show the plot\n",
        "plt.show()"
      ],
      "metadata": {
        "colab": {
          "base_uri": "https://localhost:8080/",
          "height": 279
        },
        "id": "E546IX0sNApr",
        "outputId": "479aee67-1264-4ee9-9f39-be5042cd35fa"
      },
      "execution_count": null,
      "outputs": [
        {
          "output_type": "display_data",
          "data": {
            "image/png": "[encoded data removed]",
            "text/plain": [
              "<Figure size 432x288 with 1 Axes>"
            ]
          },
          "metadata": {
            "needs_background": "light"
          }
        }
      ]
    },
    {
      "cell_type": "code",
      "source": [
        "# Confusion metric heatmap\n",
        "import seaborn as sns\n",
        "cm = confusion_matrix(y_test, prediction_SVM_gb)\n",
        "#print(cm)\n",
        "sns.heatmap(cm, annot=True)"
      ],
      "metadata": {
        "colab": {
          "base_uri": "https://localhost:8080/",
          "height": 284
        },
        "id": "GnWCEt6STO5E",
        "outputId": "1e7b835b-c7bf-4535-95ab-6a12360ef306"
      },
      "execution_count": null,
      "outputs": [
        {
          "output_type": "execute_result",
          "data": {
            "text/plain": [
              "<matplotlib.axes._subplots.AxesSubplot at 0x7fab57b1a910>"
            ]
          },
          "metadata": {},
          "execution_count": 23
        },
        {
          "output_type": "display_data",
          "data": {
            "image/png": "[encoded data removed]",
            "text/plain": [
              "<Figure size 432x288 with 2 Axes>"
            ]
          },
          "metadata": {
            "needs_background": "light"
          }
        }
      ]
    },
    {
      "cell_type": "markdown",
      "source": [
        "**SVC on Combine Features vector**"
      ],
      "metadata": {
        "id": "RkOxHC3PKMkx"
      }
    },
    {
      "cell_type": "code",
      "source": [
        "# Combine both extracted features vectors from Gabor filter and from RESNET\n",
        "X_train_for_SVM = []\n",
        "X_test_for_SVM = []\n",
        "for i in range(len(x_train)):\n",
        "  Xt = np.concatenate((X_train_RESNET[i], X_train_gb[i]))\n",
        "  X_train_for_SVM.append(Xt)\n",
        "for i in range(len(x_test)):\n",
        "  Xt_ = np.concatenate((X_test_RESNET[i], X_test_gb[i]))\n",
        "  X_test_for_SVM.append(Xt_)\n",
        "\n",
        "# Convert lists into numpy arrays\n",
        "X_train_for_SVM = np.array(X_train_for_SVM)\n",
        "X_test_for_SVM = np.array(X_test_for_SVM)\n"
      ],
      "metadata": {
        "id": "g6si-8ap3Jel"
      },
      "execution_count": null,
      "outputs": []
    },
    {
      "cell_type": "code",
      "source": [
        "# #Support Vector Machine Classifier\n",
        "SVM_model = SVC(probability=True)\n",
        "\n",
        "# # Train classifier model on training data\n",
        "SVM_model.fit(X_train_for_SVM, y_train) #For sklearn no one hot encoding"
      ],
      "metadata": {
        "colab": {
          "base_uri": "https://localhost:8080/"
        },
        "id": "2Gmp5uvfudej",
        "outputId": "f135cc5c-5948-4d9b-b49e-e07e5a6ee890"
      },
      "execution_count": null,
      "outputs": [
        {
          "output_type": "execute_result",
          "data": {
            "text/plain": [
              "SVC(probability=True)"
            ]
          },
          "metadata": {},
          "execution_count": 19
        }
      ]
    },
    {
      "cell_type": "code",
      "source": [
        "# save model for later use\n",
        "import pickle\n",
        "filename = 'finalized_model.sav'\n",
        "pickle.dump(SVM_model, open(filename, 'wb'))"
      ],
      "metadata": {
        "id": "oZh0qr8Pz3_z"
      },
      "execution_count": null,
      "outputs": []
    },
    {
      "cell_type": "code",
      "source": [
        "#Now predict using the trained SVM model\n",
        "prediction_SVM = SVM_model.predict(X_test_for_SVM)\n",
        "\n",
        "# #Inverse label encoding le transform to get original label back.\n",
        "prediction_SVM_labels = label_encode.inverse_transform(prediction_SVM)"
      ],
      "metadata": {
        "id": "ceN67sk50Gad"
      },
      "execution_count": null,
      "outputs": []
    },
    {
      "cell_type": "code",
      "source": [
        "evaluation_metrics(y_test, prediction_SVM)"
      ],
      "metadata": {
        "id": "hndduLvoF1Zt",
        "colab": {
          "base_uri": "https://localhost:8080/"
        },
        "outputId": "00278f43-c80d-45db-fb28-dce1c607dd54"
      },
      "execution_count": null,
      "outputs": [
        {
          "output_type": "stream",
          "name": "stdout",
          "text": [
            "Model Performance Evaluation:\n",
            "\n",
            "Accuracy  : 99.78\n",
            "Precision : 99.78\n",
            "f1Score : 99.78\n",
            "\n",
            "confusion_matrix\n",
            "[[225   0]\n",
            " [  1 224]]\n",
            "\n",
            "True Positive  : 224\n",
            "True Negative  : 225\n",
            "Flase Positive  : 0\n",
            "False Negative  : 1\n",
            "\n",
            "Specificity  : 1.0\n",
            "Sensitivity  : 0.9955555555555555\n",
            "Positive predictive value (PPV): 1.0\n",
            "Negative predictive value (NPV)  : 0.995575221238938\n"
          ]
        },
        {
          "output_type": "execute_result",
          "data": {
            "text/plain": [
              "(99.78, 99.78, 99.78, array([[225,   0],\n",
              "        [  1, 224]]))"
            ]
          },
          "metadata": {},
          "execution_count": 31
        }
      ]
    },
    {
      "cell_type": "code",
      "source": [
        "# Plot the ROC curve for the model\n",
        "fpr, tpr, _ = roc_curve(y_test, prediction_SVM)\n",
        "plt.plot(fpr, tpr, marker='.', label='SVM')\n",
        "# axis labels\n",
        "plt.xlabel('False Positive Rate')\n",
        "plt.ylabel('True Positive Rate')\n",
        "# show the legend\n",
        "plt.legend()\n",
        "# show the plot\n",
        "plt.show()"
      ],
      "metadata": {
        "id": "dEx5GbX_JfkM",
        "colab": {
          "base_uri": "https://localhost:8080/",
          "height": 279
        },
        "outputId": "3acb0af8-913c-4234-efd5-14950c162ff5"
      },
      "execution_count": null,
      "outputs": [
        {
          "output_type": "display_data",
          "data": {
            "image/png": "[encoded data removed]",
            "text/plain": [
              "<Figure size 432x288 with 1 Axes>"
            ]
          },
          "metadata": {
            "needs_background": "light"
          }
        }
      ]
    },
    {
      "cell_type": "code",
      "source": [
        "# Confusion metric heatmap\n",
        "cm = confusion_matrix(y_test, prediction_SVM)\n",
        "#print(cm)\n",
        "sns.heatmap(cm, annot=True)"
      ],
      "metadata": {
        "id": "v9HqvWQyFppL",
        "colab": {
          "base_uri": "https://localhost:8080/",
          "height": 287
        },
        "outputId": "3b79105f-d8ff-47d4-a2f7-d688bdc33fe9"
      },
      "execution_count": null,
      "outputs": [
        {
          "output_type": "execute_result",
          "data": {
            "text/plain": [
              "<matplotlib.axes._subplots.AxesSubplot at 0x7fe04a850310>"
            ]
          },
          "metadata": {},
          "execution_count": 35
        },
        {
          "output_type": "display_data",
          "data": {
            "image/png": "[encoded data removed]",
            "text/plain": [
              "<Figure size 432x288 with 2 Axes>"
            ]
          },
          "metadata": {
            "needs_background": "light"
          }
        }
      ]
    },
    {
      "cell_type": "markdown",
      "source": [
        "**Transfer Learning Model Training and Tunning**"
      ],
      "metadata": {
        "id": "0eRkuyu7oTzk"
      }
    },
    {
      "cell_type": "code",
      "source": [
        "from tensorflow.keras.layers import Flatten, Dense, Input\n",
        "from tensorflow.keras.models import Sequential\n",
        "# Load RESNET model from keras applications\n",
        "RESNET_model = resnet50.ResNet50(\n",
        "    include_top = False,\n",
        "    weights = 'imagenet',\n",
        "    input_shape = (SIZE,SIZE,3),\n",
        "    classifier_activation = 'sigmoid'\n",
        ")\n",
        "# Train all\n",
        "for i in range(50):\n",
        "  RESNET_model.layers[i].trainable = True\n",
        "\n",
        "model = Sequential()\n",
        "model.add(RESNET_model)\n",
        "model.add(Flatten())\n",
        "model.add(Dense(2, activation = 'softmax'))\n",
        "model.compile(optimizer='rmsprop',loss = 'binary_crossentropy', metrics = ['accuracy'])\n",
        "#print(new_model.summary())\n",
        "\n",
        "from tensorflow.keras.utils import to_categorical\n",
        "y_train_one_hot = to_categorical(y_train)\n",
        "y_test_one_hot = to_categorical(y_test)\n",
        "\n",
        "#Train the NEW Model\n",
        "history = model.fit(x_train, y_train_one_hot, epochs=5, batch_size=32, validation_split = 0.2)"
      ],
      "metadata": {
        "id": "A5tsR_qgSnZ4"
      },
      "execution_count": null,
      "outputs": []
    },
    {
      "cell_type": "code",
      "source": [
        "prediction_model = model.predict(x_test)\n",
        "prediction_model = np.argmax(prediction_model, axis=-1)\n",
        "prediction_model_inv_en = label_encode.inverse_transform(prediction_model)\n",
        "import seaborn as sns\n",
        "#Print overall accuracy\n",
        "print (\"Accuracy = \", accuracy_score(y_test, prediction_model))\n",
        "\n",
        "#Confusion Matrix - verify accuracy of each class\n",
        "cm = confusion_matrix(y_test, prediction_model)\n",
        "print(cm)\n",
        "sns.heatmap(cm, annot=True)\n",
        "#Check results on a few select images"
      ],
      "metadata": {
        "colab": {
          "base_uri": "https://localhost:8080/",
          "height": 338
        },
        "id": "qepZhcSLJFYG",
        "outputId": "c7e8cb1a-b2ad-4e87-f6d7-e7b01adeddf4"
      },
      "execution_count": null,
      "outputs": [
        {
          "output_type": "stream",
          "name": "stdout",
          "text": [
            "Accuracy =  0.9222222222222223\n",
            "[[218   7]\n",
            " [ 28 197]]\n"
          ]
        },
        {
          "output_type": "execute_result",
          "data": {
            "text/plain": [
              "<matplotlib.axes._subplots.AxesSubplot at 0x7fefff8a3e10>"
            ]
          },
          "metadata": {},
          "execution_count": 29
        },
        {
          "output_type": "display_data",
          "data": {
            "image/png": "[encoded data removed]",
            "text/plain": [
              "<Figure size 432x288 with 2 Axes>"
            ]
          },
          "metadata": {
            "needs_background": "light"
          }
        }
      ]
    },
    {
      "cell_type": "markdown",
      "source": [
        "**Use Self Trained Model as transfer learning and classification**"
      ],
      "metadata": {
        "id": "rM2DGJNdObDT"
      }
    },
    {
      "cell_type": "code",
      "source": [
        "import tensorflow as tf\n",
        "path_to_model = \"/content/drive/MyDrive/resnet18_scratch (1).h5\"\n",
        "trained_model = tf.keras.models.load_model(path_to_model)\n",
        "trained_model.summary()"
      ],
      "metadata": {
        "colab": {
          "base_uri": "https://localhost:8080/"
        },
        "id": "BetK1dw30K_1",
        "outputId": "0342b5e1-fef8-41b1-aaf9-207df8713bec"
      },
      "execution_count": null,
      "outputs": [
        {
          "output_type": "stream",
          "name": "stdout",
          "text": [
            "Model: \"ResNet34\"\n",
            "__________________________________________________________________________________________________\n",
            " Layer (type)                   Output Shape         Param #     Connected to                     \n",
            "==================================================================================================\n",
            " input_1 (InputLayer)           [(None, 224, 224, 3  0           []                               \n",
            "                                )]                                                                \n",
            "                                                                                                  \n",
            " zero_padding2d (ZeroPadding2D)  (None, 230, 230, 3)  0          ['input_1[0][0]']                \n",
            "                                                                                                  \n",
            " conv2d (Conv2D)                (None, 115, 115, 64  9472        ['zero_padding2d[0][0]']         \n",
            "                                )                                                                 \n",
            "                                                                                                  \n",
            " batch_normalization (BatchNorm  (None, 115, 115, 64  256        ['conv2d[0][0]']                 \n",
            " alization)                     )                                                                 \n",
            "                                                                                                  \n",
            " activation (Activation)        (None, 115, 115, 64  0           ['batch_normalization[0][0]']    \n",
            "                                )                                                                 \n",
            "                                                                                                  \n",
            " max_pooling2d (MaxPooling2D)   (None, 58, 58, 64)   0           ['activation[0][0]']             \n",
            "                                                                                                  \n",
            " conv2d_1 (Conv2D)              (None, 58, 58, 64)   36928       ['max_pooling2d[0][0]']          \n",
            "                                                                                                  \n",
            " batch_normalization_1 (BatchNo  (None, 58, 58, 64)  256         ['conv2d_1[0][0]']               \n",
            " rmalization)                                                                                     \n",
            "                                                                                                  \n",
            " activation_1 (Activation)      (None, 58, 58, 64)   0           ['batch_normalization_1[0][0]']  \n",
            "                                                                                                  \n",
            " conv2d_2 (Conv2D)              (None, 58, 58, 64)   36928       ['activation_1[0][0]']           \n",
            "                                                                                                  \n",
            " batch_normalization_2 (BatchNo  (None, 58, 58, 64)  256         ['conv2d_2[0][0]']               \n",
            " rmalization)                                                                                     \n",
            "                                                                                                  \n",
            " add (Add)                      (None, 58, 58, 64)   0           ['batch_normalization_2[0][0]',  \n",
            "                                                                  'max_pooling2d[0][0]']          \n",
            "                                                                                                  \n",
            " activation_2 (Activation)      (None, 58, 58, 64)   0           ['add[0][0]']                    \n",
            "                                                                                                  \n",
            " conv2d_3 (Conv2D)              (None, 58, 58, 64)   36928       ['activation_2[0][0]']           \n",
            "                                                                                                  \n",
            " batch_normalization_3 (BatchNo  (None, 58, 58, 64)  256         ['conv2d_3[0][0]']               \n",
            " rmalization)                                                                                     \n",
            "                                                                                                  \n",
            " activation_3 (Activation)      (None, 58, 58, 64)   0           ['batch_normalization_3[0][0]']  \n",
            "                                                                                                  \n",
            " conv2d_4 (Conv2D)              (None, 58, 58, 64)   36928       ['activation_3[0][0]']           \n",
            "                                                                                                  \n",
            " batch_normalization_4 (BatchNo  (None, 58, 58, 64)  256         ['conv2d_4[0][0]']               \n",
            " rmalization)                                                                                     \n",
            "                                                                                                  \n",
            " add_1 (Add)                    (None, 58, 58, 64)   0           ['batch_normalization_4[0][0]',  \n",
            "                                                                  'activation_2[0][0]']           \n",
            "                                                                                                  \n",
            " activation_4 (Activation)      (None, 58, 58, 64)   0           ['add_1[0][0]']                  \n",
            "                                                                                                  \n",
            " conv2d_5 (Conv2D)              (None, 29, 29, 128)  73856       ['activation_4[0][0]']           \n",
            "                                                                                                  \n",
            " batch_normalization_5 (BatchNo  (None, 29, 29, 128)  512        ['conv2d_5[0][0]']               \n",
            " rmalization)                                                                                     \n",
            "                                                                                                  \n",
            " activation_5 (Activation)      (None, 29, 29, 128)  0           ['batch_normalization_5[0][0]']  \n",
            "                                                                                                  \n",
            " conv2d_6 (Conv2D)              (None, 29, 29, 128)  147584      ['activation_5[0][0]']           \n",
            "                                                                                                  \n",
            " batch_normalization_6 (BatchNo  (None, 29, 29, 128)  512        ['conv2d_6[0][0]']               \n",
            " rmalization)                                                                                     \n",
            "                                                                                                  \n",
            " conv2d_7 (Conv2D)              (None, 29, 29, 128)  8320        ['activation_4[0][0]']           \n",
            "                                                                                                  \n",
            " add_2 (Add)                    (None, 29, 29, 128)  0           ['batch_normalization_6[0][0]',  \n",
            "                                                                  'conv2d_7[0][0]']               \n",
            "                                                                                                  \n",
            " activation_6 (Activation)      (None, 29, 29, 128)  0           ['add_2[0][0]']                  \n",
            "                                                                                                  \n",
            " conv2d_8 (Conv2D)              (None, 29, 29, 128)  147584      ['activation_6[0][0]']           \n",
            "                                                                                                  \n",
            " batch_normalization_7 (BatchNo  (None, 29, 29, 128)  512        ['conv2d_8[0][0]']               \n",
            " rmalization)                                                                                     \n",
            "                                                                                                  \n",
            " activation_7 (Activation)      (None, 29, 29, 128)  0           ['batch_normalization_7[0][0]']  \n",
            "                                                                                                  \n",
            " conv2d_9 (Conv2D)              (None, 29, 29, 128)  147584      ['activation_7[0][0]']           \n",
            "                                                                                                  \n",
            " batch_normalization_8 (BatchNo  (None, 29, 29, 128)  512        ['conv2d_9[0][0]']               \n",
            " rmalization)                                                                                     \n",
            "                                                                                                  \n",
            " add_3 (Add)                    (None, 29, 29, 128)  0           ['batch_normalization_8[0][0]',  \n",
            "                                                                  'activation_6[0][0]']           \n",
            "                                                                                                  \n",
            " activation_8 (Activation)      (None, 29, 29, 128)  0           ['add_3[0][0]']                  \n",
            "                                                                                                  \n",
            " conv2d_10 (Conv2D)             (None, 15, 15, 256)  295168      ['activation_8[0][0]']           \n",
            "                                                                                                  \n",
            " batch_normalization_9 (BatchNo  (None, 15, 15, 256)  1024       ['conv2d_10[0][0]']              \n",
            " rmalization)                                                                                     \n",
            "                                                                                                  \n",
            " activation_9 (Activation)      (None, 15, 15, 256)  0           ['batch_normalization_9[0][0]']  \n",
            "                                                                                                  \n",
            " conv2d_11 (Conv2D)             (None, 15, 15, 256)  590080      ['activation_9[0][0]']           \n",
            "                                                                                                  \n",
            " batch_normalization_10 (BatchN  (None, 15, 15, 256)  1024       ['conv2d_11[0][0]']              \n",
            " ormalization)                                                                                    \n",
            "                                                                                                  \n",
            " conv2d_12 (Conv2D)             (None, 15, 15, 256)  33024       ['activation_8[0][0]']           \n",
            "                                                                                                  \n",
            " add_4 (Add)                    (None, 15, 15, 256)  0           ['batch_normalization_10[0][0]', \n",
            "                                                                  'conv2d_12[0][0]']              \n",
            "                                                                                                  \n",
            " activation_10 (Activation)     (None, 15, 15, 256)  0           ['add_4[0][0]']                  \n",
            "                                                                                                  \n",
            " conv2d_13 (Conv2D)             (None, 15, 15, 256)  590080      ['activation_10[0][0]']          \n",
            "                                                                                                  \n",
            " batch_normalization_11 (BatchN  (None, 15, 15, 256)  1024       ['conv2d_13[0][0]']              \n",
            " ormalization)                                                                                    \n",
            "                                                                                                  \n",
            " activation_11 (Activation)     (None, 15, 15, 256)  0           ['batch_normalization_11[0][0]'] \n",
            "                                                                                                  \n",
            " conv2d_14 (Conv2D)             (None, 15, 15, 256)  590080      ['activation_11[0][0]']          \n",
            "                                                                                                  \n",
            " batch_normalization_12 (BatchN  (None, 15, 15, 256)  1024       ['conv2d_14[0][0]']              \n",
            " ormalization)                                                                                    \n",
            "                                                                                                  \n",
            " add_5 (Add)                    (None, 15, 15, 256)  0           ['batch_normalization_12[0][0]', \n",
            "                                                                  'activation_10[0][0]']          \n",
            "                                                                                                  \n",
            " activation_12 (Activation)     (None, 15, 15, 256)  0           ['add_5[0][0]']                  \n",
            "                                                                                                  \n",
            " conv2d_15 (Conv2D)             (None, 8, 8, 512)    1180160     ['activation_12[0][0]']          \n",
            "                                                                                                  \n",
            " batch_normalization_13 (BatchN  (None, 8, 8, 512)   2048        ['conv2d_15[0][0]']              \n",
            " ormalization)                                                                                    \n",
            "                                                                                                  \n",
            " activation_13 (Activation)     (None, 8, 8, 512)    0           ['batch_normalization_13[0][0]'] \n",
            "                                                                                                  \n",
            " conv2d_16 (Conv2D)             (None, 8, 8, 512)    2359808     ['activation_13[0][0]']          \n",
            "                                                                                                  \n",
            " batch_normalization_14 (BatchN  (None, 8, 8, 512)   2048        ['conv2d_16[0][0]']              \n",
            " ormalization)                                                                                    \n",
            "                                                                                                  \n",
            " conv2d_17 (Conv2D)             (None, 8, 8, 512)    131584      ['activation_12[0][0]']          \n",
            "                                                                                                  \n",
            " add_6 (Add)                    (None, 8, 8, 512)    0           ['batch_normalization_14[0][0]', \n",
            "                                                                  'conv2d_17[0][0]']              \n",
            "                                                                                                  \n",
            " activation_14 (Activation)     (None, 8, 8, 512)    0           ['add_6[0][0]']                  \n",
            "                                                                                                  \n",
            " conv2d_18 (Conv2D)             (None, 8, 8, 512)    2359808     ['activation_14[0][0]']          \n",
            "                                                                                                  \n",
            " batch_normalization_15 (BatchN  (None, 8, 8, 512)   2048        ['conv2d_18[0][0]']              \n",
            " ormalization)                                                                                    \n",
            "                                                                                                  \n",
            " activation_15 (Activation)     (None, 8, 8, 512)    0           ['batch_normalization_15[0][0]'] \n",
            "                                                                                                  \n",
            " conv2d_19 (Conv2D)             (None, 8, 8, 512)    2359808     ['activation_15[0][0]']          \n",
            "                                                                                                  \n",
            " batch_normalization_16 (BatchN  (None, 8, 8, 512)   2048        ['conv2d_19[0][0]']              \n",
            " ormalization)                                                                                    \n",
            "                                                                                                  \n",
            " add_7 (Add)                    (None, 8, 8, 512)    0           ['batch_normalization_16[0][0]', \n",
            "                                                                  'activation_14[0][0]']          \n",
            "                                                                                                  \n",
            " activation_16 (Activation)     (None, 8, 8, 512)    0           ['add_7[0][0]']                  \n",
            "                                                                                                  \n",
            " average_pooling2d (AveragePool  (None, 4, 4, 512)   0           ['activation_16[0][0]']          \n",
            " ing2D)                                                                                           \n",
            "                                                                                                  \n",
            " flatten (Flatten)              (None, 8192)         0           ['average_pooling2d[0][0]']      \n",
            "                                                                                                  \n",
            " dense (Dense)                  (None, 512)          4194816     ['flatten[0][0]']                \n",
            "                                                                                                  \n",
            " dense_1 (Dense)                (None, 2)            1026        ['dense[0][0]']                  \n",
            "                                                                                                  \n",
            "==================================================================================================\n",
            "Total params: 15,383,170\n",
            "Trainable params: 15,375,362\n",
            "Non-trainable params: 7,808\n",
            "__________________________________________________________________________________________________\n"
          ]
        }
      ]
    },
    {
      "cell_type": "code",
      "source": [
        "# Freez first 5 layers and use last layers in training on our own data\n",
        "for i in range(5):\n",
        "  trained_model.layers[i].trainable = False"
      ],
      "metadata": {
        "id": "-sEUfMqC1B9s"
      },
      "execution_count": null,
      "outputs": []
    },
    {
      "cell_type": "code",
      "source": [
        "# We will get from the Flatten layer of trained model\n",
        "from tensorflow.keras.models import Model\n",
        "from tensorflow.keras.layers import Dense\n",
        "flatten_feature_extractor = trained_model.layers[-3].output\n",
        "add_layer = Dense(128, activation = \"relu\", kernel_initializer = 'he_uniform')(flatten_feature_extractor)\n",
        "prediction_layer = Dense(2, activation = 'sigmoid')(add_layer)\n",
        "\n",
        "# Make a new model combining both the flatten layer of trained model and x\n",
        "new_model = Model(inputs=trained_model.input, outputs=prediction_layer)\n",
        "new_model.compile(optimizer='rmsprop',loss = 'binary_crossentropy', metrics = ['accuracy'])\n",
        "#print(new_model.summary())\n",
        "\n",
        "from tensorflow.keras.utils import to_categorical\n",
        "y_train_one_hot = to_categorical(y_train)\n",
        "y_test_one_hot = to_categorical(y_test)\n",
        "\n",
        "#Train the NEW Model\n",
        "history = new_model.fit(x_train, y_train_one_hot, epochs=5, validation_split = 0.2)\n"
      ],
      "metadata": {
        "colab": {
          "base_uri": "https://localhost:8080/"
        },
        "id": "ZglWUdGs6U-2",
        "outputId": "403d0fca-70a7-4a4b-fac5-e1a5794de131"
      },
      "execution_count": null,
      "outputs": [
        {
          "output_type": "stream",
          "name": "stdout",
          "text": [
            "Epoch 1/5\n",
            "64/64 [==============================] - 634s 9s/step - loss: 1.9587 - accuracy: 0.8078 - val_loss: 0.5733 - val_accuracy: 0.6765\n",
            "Epoch 2/5\n",
            "64/64 [==============================] - 591s 9s/step - loss: 0.5031 - accuracy: 0.8426 - val_loss: 0.8791 - val_accuracy: 0.8255\n",
            "Epoch 3/5\n",
            "64/64 [==============================] - 588s 9s/step - loss: 0.5350 - accuracy: 0.8564 - val_loss: 0.2024 - val_accuracy: 0.8941\n",
            "Epoch 4/5\n",
            "64/64 [==============================] - 586s 9s/step - loss: 0.3418 - accuracy: 0.8833 - val_loss: 0.5313 - val_accuracy: 0.7412\n",
            "Epoch 5/5\n",
            "64/64 [==============================] - 588s 9s/step - loss: 0.3242 - accuracy: 0.8877 - val_loss: 0.1074 - val_accuracy: 0.9353\n"
          ]
        }
      ]
    },
    {
      "cell_type": "code",
      "source": [
        "#plot the training and validation loss at each epoch\n",
        "loss = history.history['loss']\n",
        "val_loss = history.history['val_loss']\n",
        "epochs = range(1, len(loss) + 1)\n",
        "plt.plot(epochs, loss, 'y', label='Training loss')\n",
        "plt.plot(epochs, val_loss, 'r', label='Validation loss')\n",
        "plt.title('Training and validation loss')\n",
        "plt.xlabel('Epochs')\n",
        "plt.ylabel('Loss')\n",
        "plt.legend()\n",
        "plt.show() # so loss is decreasing"
      ],
      "metadata": {
        "colab": {
          "base_uri": "https://localhost:8080/",
          "height": 295
        },
        "id": "lbGWI9PXIGoa",
        "outputId": "e6a5ee42-1a12-42ce-c835-0cde3e98796a"
      },
      "execution_count": null,
      "outputs": [
        {
          "output_type": "display_data",
          "data": {
            "image/png": "[encoded data removed]",
            "text/plain": [
              "<Figure size 432x288 with 1 Axes>"
            ]
          },
          "metadata": {
            "needs_background": "light"
          }
        }
      ]
    },
    {
      "cell_type": "code",
      "source": [
        "prediction_NN = new_model.predict(x_test)\n",
        "prediction_NN = np.argmax(prediction_NN, axis=-1)\n",
        "prediction_NN_inv_en = label_encode.inverse_transform(prediction_NN)"
      ],
      "metadata": {
        "id": "PfI6nTsL2_0O"
      },
      "execution_count": null,
      "outputs": []
    },
    {
      "cell_type": "code",
      "source": [
        "evaluation_metrics(y_test, prediction_NN)"
      ],
      "metadata": {
        "colab": {
          "base_uri": "https://localhost:8080/"
        },
        "id": "LJLsSluSOCjv",
        "outputId": "fa1ec0d0-fdfe-43ac-f865-e0be522b5674"
      },
      "execution_count": null,
      "outputs": [
        {
          "output_type": "stream",
          "name": "stdout",
          "text": [
            "Model Performance Evaluation:\n",
            "\n",
            "Accuracy  : 92.22\n",
            "Precision : 92.59\n",
            "f1Score : 92.21\n",
            "\n",
            "confusion_matrix\n",
            "[[218   7]\n",
            " [ 28 197]]\n",
            "\n",
            "True Positive  : 197\n",
            "True Negative  : 218\n",
            "Flase Positive  : 7\n",
            "False Negative  : 28\n",
            "\n",
            "Specificity  : 0.9688888888888889\n",
            "Sensitivity  : 0.8755555555555555\n",
            "Positive predictive value (PPV): 0.9656862745098039\n",
            "Negative predictive value (NPV)  : 0.8861788617886179\n"
          ]
        },
        {
          "output_type": "execute_result",
          "data": {
            "text/plain": [
              "(92.22, 92.59, 92.21, array([[218,   7],\n",
              "        [ 28, 197]]))"
            ]
          },
          "metadata": {},
          "execution_count": 41
        }
      ]
    },
    {
      "cell_type": "code",
      "source": [],
      "metadata": {
        "id": "kBi8_PZ6fj4x"
      },
      "execution_count": null,
      "outputs": []
    }
  ]
}